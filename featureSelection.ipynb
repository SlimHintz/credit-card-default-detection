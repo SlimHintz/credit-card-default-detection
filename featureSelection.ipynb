{
 "cells": [
  {
   "cell_type": "code",
   "execution_count": 2,
   "metadata": {},
   "outputs": [],
   "source": [
    "# import libraries \n",
    "\n",
    "# utility/data wrangling\n",
    "import pandas as pd\n",
    "import numpy as np\n",
    "from warnings import filterwarnings\n",
    "\n",
    "# chart creations\n",
    "import matplotlib.pyplot as plt\n",
    "import seaborn as sns\n",
    "\n",
    "# pre processing\n",
    "from sklearn.preprocessing import minmax_scale\n",
    "from sklearn.preprocessing import PolynomialFeatures\n",
    "from sklearn.preprocessing import StandardScaler\n",
    "from imblearn.under_sampling import TomekLinks # down sampling\n",
    "from imblearn.over_sampling import SMOTE # up sampling\n",
    "\n",
    "\n",
    "# model selection\n",
    "from sklearn.model_selection import train_test_split, cross_val_score\n",
    "from sklearn.model_selection import GridSearchCV\n",
    "\n",
    "# Models\n",
    "from sklearn.linear_model import LogisticRegression\n",
    "from sklearn.neighbors import  KNeighborsClassifier\n",
    "from sklearn.ensemble import RandomForestClassifier\n",
    "from sklearn.tree import DecisionTreeClassifier\n",
    "\n",
    "\n",
    "# Model Validation \n",
    "from sklearn.metrics import f1_score, accuracy_score, recall_score, roc_auc_score, roc_curve\n",
    "\n",
    "# statistical testing\n",
    "from scipy.stats import f_oneway\n",
    "from scipy import stats\n",
    "\n",
    "# # py file\n",
    "# import src\n",
    "\n",
    "filterwarnings('ignore')\n",
    "%matplotlib inline"
   ]
  },
  {
   "cell_type": "code",
   "execution_count": 3,
   "metadata": {},
   "outputs": [],
   "source": [
    "df = pd.read_csv('./data/training_cleaning.csv')\n",
    "df.drop(columns=['id'], inplace=True)"
   ]
  },
  {
   "cell_type": "markdown",
   "metadata": {},
   "source": [
    "# The plan here is to dummy everthing that can be dummied\n",
    "\n",
    "- pay \n",
    "- education\n",
    "- marriage\n"
   ]
  },
  {
   "cell_type": "code",
   "execution_count": 4,
   "metadata": {},
   "outputs": [
    {
     "data": {
      "text/html": [
       "<div>\n",
       "<style scoped>\n",
       "    .dataframe tbody tr th:only-of-type {\n",
       "        vertical-align: middle;\n",
       "    }\n",
       "\n",
       "    .dataframe tbody tr th {\n",
       "        vertical-align: top;\n",
       "    }\n",
       "\n",
       "    .dataframe thead th {\n",
       "        text-align: right;\n",
       "    }\n",
       "</style>\n",
       "<table border=\"1\" class=\"dataframe\">\n",
       "  <thead>\n",
       "    <tr style=\"text-align: right;\">\n",
       "      <th></th>\n",
       "      <th>limit_bal</th>\n",
       "      <th>male</th>\n",
       "      <th>education</th>\n",
       "      <th>marriage</th>\n",
       "      <th>age</th>\n",
       "      <th>pay_0</th>\n",
       "      <th>pay_2</th>\n",
       "      <th>pay_3</th>\n",
       "      <th>pay_4</th>\n",
       "      <th>pay_5</th>\n",
       "      <th>...</th>\n",
       "      <th>bill_amt4</th>\n",
       "      <th>bill_amt5</th>\n",
       "      <th>bill_amt6</th>\n",
       "      <th>pay_amt1</th>\n",
       "      <th>pay_amt2</th>\n",
       "      <th>pay_amt3</th>\n",
       "      <th>pay_amt4</th>\n",
       "      <th>pay_amt5</th>\n",
       "      <th>pay_amt6</th>\n",
       "      <th>default</th>\n",
       "    </tr>\n",
       "  </thead>\n",
       "  <tbody>\n",
       "    <tr>\n",
       "      <th>0</th>\n",
       "      <td>220000</td>\n",
       "      <td>0</td>\n",
       "      <td>1</td>\n",
       "      <td>2</td>\n",
       "      <td>36</td>\n",
       "      <td>0</td>\n",
       "      <td>0</td>\n",
       "      <td>0</td>\n",
       "      <td>0</td>\n",
       "      <td>0</td>\n",
       "      <td>...</td>\n",
       "      <td>221193</td>\n",
       "      <td>181859</td>\n",
       "      <td>184605</td>\n",
       "      <td>10000</td>\n",
       "      <td>8018</td>\n",
       "      <td>10121</td>\n",
       "      <td>6006</td>\n",
       "      <td>10987</td>\n",
       "      <td>143779</td>\n",
       "      <td>1</td>\n",
       "    </tr>\n",
       "    <tr>\n",
       "      <th>1</th>\n",
       "      <td>200000</td>\n",
       "      <td>0</td>\n",
       "      <td>3</td>\n",
       "      <td>2</td>\n",
       "      <td>29</td>\n",
       "      <td>-1</td>\n",
       "      <td>-1</td>\n",
       "      <td>-1</td>\n",
       "      <td>-1</td>\n",
       "      <td>-1</td>\n",
       "      <td>...</td>\n",
       "      <td>326</td>\n",
       "      <td>326</td>\n",
       "      <td>326</td>\n",
       "      <td>326</td>\n",
       "      <td>326</td>\n",
       "      <td>326</td>\n",
       "      <td>326</td>\n",
       "      <td>326</td>\n",
       "      <td>326</td>\n",
       "      <td>0</td>\n",
       "    </tr>\n",
       "    <tr>\n",
       "      <th>2</th>\n",
       "      <td>180000</td>\n",
       "      <td>0</td>\n",
       "      <td>1</td>\n",
       "      <td>2</td>\n",
       "      <td>27</td>\n",
       "      <td>-2</td>\n",
       "      <td>-2</td>\n",
       "      <td>-2</td>\n",
       "      <td>-2</td>\n",
       "      <td>-2</td>\n",
       "      <td>...</td>\n",
       "      <td>0</td>\n",
       "      <td>0</td>\n",
       "      <td>0</td>\n",
       "      <td>0</td>\n",
       "      <td>0</td>\n",
       "      <td>0</td>\n",
       "      <td>0</td>\n",
       "      <td>0</td>\n",
       "      <td>0</td>\n",
       "      <td>0</td>\n",
       "    </tr>\n",
       "    <tr>\n",
       "      <th>3</th>\n",
       "      <td>80000</td>\n",
       "      <td>1</td>\n",
       "      <td>2</td>\n",
       "      <td>2</td>\n",
       "      <td>32</td>\n",
       "      <td>0</td>\n",
       "      <td>0</td>\n",
       "      <td>0</td>\n",
       "      <td>0</td>\n",
       "      <td>0</td>\n",
       "      <td>...</td>\n",
       "      <td>43882</td>\n",
       "      <td>42256</td>\n",
       "      <td>42527</td>\n",
       "      <td>1853</td>\n",
       "      <td>1700</td>\n",
       "      <td>1522</td>\n",
       "      <td>1548</td>\n",
       "      <td>1488</td>\n",
       "      <td>1500</td>\n",
       "      <td>0</td>\n",
       "    </tr>\n",
       "    <tr>\n",
       "      <th>4</th>\n",
       "      <td>10000</td>\n",
       "      <td>1</td>\n",
       "      <td>2</td>\n",
       "      <td>2</td>\n",
       "      <td>27</td>\n",
       "      <td>0</td>\n",
       "      <td>0</td>\n",
       "      <td>0</td>\n",
       "      <td>0</td>\n",
       "      <td>0</td>\n",
       "      <td>...</td>\n",
       "      <td>5444</td>\n",
       "      <td>2639</td>\n",
       "      <td>2697</td>\n",
       "      <td>2000</td>\n",
       "      <td>1100</td>\n",
       "      <td>600</td>\n",
       "      <td>300</td>\n",
       "      <td>300</td>\n",
       "      <td>1000</td>\n",
       "      <td>1</td>\n",
       "    </tr>\n",
       "  </tbody>\n",
       "</table>\n",
       "<p>5 rows × 24 columns</p>\n",
       "</div>"
      ],
      "text/plain": [
       "   limit_bal  male  education  marriage  age  pay_0  pay_2  pay_3  pay_4  \\\n",
       "0     220000     0          1         2   36      0      0      0      0   \n",
       "1     200000     0          3         2   29     -1     -1     -1     -1   \n",
       "2     180000     0          1         2   27     -2     -2     -2     -2   \n",
       "3      80000     1          2         2   32      0      0      0      0   \n",
       "4      10000     1          2         2   27      0      0      0      0   \n",
       "\n",
       "   pay_5  ...  bill_amt4  bill_amt5  bill_amt6  pay_amt1  pay_amt2  pay_amt3  \\\n",
       "0      0  ...     221193     181859     184605     10000      8018     10121   \n",
       "1     -1  ...        326        326        326       326       326       326   \n",
       "2     -2  ...          0          0          0         0         0         0   \n",
       "3      0  ...      43882      42256      42527      1853      1700      1522   \n",
       "4      0  ...       5444       2639       2697      2000      1100       600   \n",
       "\n",
       "   pay_amt4  pay_amt5  pay_amt6  default  \n",
       "0      6006     10987    143779        1  \n",
       "1       326       326       326        0  \n",
       "2         0         0         0        0  \n",
       "3      1548      1488      1500        0  \n",
       "4       300       300      1000        1  \n",
       "\n",
       "[5 rows x 24 columns]"
      ]
     },
     "execution_count": 4,
     "metadata": {},
     "output_type": "execute_result"
    }
   ],
   "source": [
    "df.head()"
   ]
  },
  {
   "cell_type": "markdown",
   "metadata": {},
   "source": [
    "# Education"
   ]
  },
  {
   "cell_type": "code",
   "execution_count": 5,
   "metadata": {},
   "outputs": [
    {
     "data": {
      "text/plain": [
       "2    10516\n",
       "1     7919\n",
       "3     3713\n",
       "5      208\n",
       "4       90\n",
       "6       42\n",
       "0       11\n",
       "Name: education, dtype: int64"
      ]
     },
     "execution_count": 5,
     "metadata": {},
     "output_type": "execute_result"
    }
   ],
   "source": [
    "df.education.value_counts()"
   ]
  },
  {
   "cell_type": "code",
   "execution_count": 6,
   "metadata": {},
   "outputs": [],
   "source": [
    "def education_categories(n):\n",
    "    if n > 3 or n == 0:\n",
    "        return 'other'\n",
    "    elif n == 3:\n",
    "        return 'high_school'\n",
    "    elif n == 2:\n",
    "        return 'university'\n",
    "    elif n == 1:\n",
    "        return 'post_grad'\n",
    "\n",
    "    \n",
    "edu_cat = df.education.apply(education_categories)\n",
    "edu_cat_dummies = pd.get_dummies(edu_cat, drop_first=True)\n",
    "edu_cat_dummies\n",
    "df_1 = df.drop(columns = 'education')\n",
    "df_1 =pd.concat([df_1, edu_cat_dummies], axis=1)"
   ]
  },
  {
   "cell_type": "markdown",
   "metadata": {},
   "source": [
    "# Marriage"
   ]
  },
  {
   "cell_type": "code",
   "execution_count": 7,
   "metadata": {},
   "outputs": [
    {
     "data": {
      "text/html": [
       "<div>\n",
       "<style scoped>\n",
       "    .dataframe tbody tr th:only-of-type {\n",
       "        vertical-align: middle;\n",
       "    }\n",
       "\n",
       "    .dataframe tbody tr th {\n",
       "        vertical-align: top;\n",
       "    }\n",
       "\n",
       "    .dataframe thead th {\n",
       "        text-align: right;\n",
       "    }\n",
       "</style>\n",
       "<table border=\"1\" class=\"dataframe\">\n",
       "  <thead>\n",
       "    <tr style=\"text-align: right;\">\n",
       "      <th></th>\n",
       "      <th>limit_bal</th>\n",
       "      <th>male</th>\n",
       "      <th>age</th>\n",
       "      <th>pay_0</th>\n",
       "      <th>pay_2</th>\n",
       "      <th>pay_3</th>\n",
       "      <th>pay_4</th>\n",
       "      <th>pay_5</th>\n",
       "      <th>pay_6</th>\n",
       "      <th>bill_amt1</th>\n",
       "      <th>...</th>\n",
       "      <th>pay_amt2</th>\n",
       "      <th>pay_amt3</th>\n",
       "      <th>pay_amt4</th>\n",
       "      <th>pay_amt5</th>\n",
       "      <th>pay_amt6</th>\n",
       "      <th>default</th>\n",
       "      <th>other</th>\n",
       "      <th>post_grad</th>\n",
       "      <th>university</th>\n",
       "      <th>married</th>\n",
       "    </tr>\n",
       "  </thead>\n",
       "  <tbody>\n",
       "    <tr>\n",
       "      <th>0</th>\n",
       "      <td>220000</td>\n",
       "      <td>0</td>\n",
       "      <td>36</td>\n",
       "      <td>0</td>\n",
       "      <td>0</td>\n",
       "      <td>0</td>\n",
       "      <td>0</td>\n",
       "      <td>0</td>\n",
       "      <td>0</td>\n",
       "      <td>222598</td>\n",
       "      <td>...</td>\n",
       "      <td>8018</td>\n",
       "      <td>10121</td>\n",
       "      <td>6006</td>\n",
       "      <td>10987</td>\n",
       "      <td>143779</td>\n",
       "      <td>1</td>\n",
       "      <td>0</td>\n",
       "      <td>1</td>\n",
       "      <td>0</td>\n",
       "      <td>0</td>\n",
       "    </tr>\n",
       "    <tr>\n",
       "      <th>1</th>\n",
       "      <td>200000</td>\n",
       "      <td>0</td>\n",
       "      <td>29</td>\n",
       "      <td>-1</td>\n",
       "      <td>-1</td>\n",
       "      <td>-1</td>\n",
       "      <td>-1</td>\n",
       "      <td>-1</td>\n",
       "      <td>-1</td>\n",
       "      <td>326</td>\n",
       "      <td>...</td>\n",
       "      <td>326</td>\n",
       "      <td>326</td>\n",
       "      <td>326</td>\n",
       "      <td>326</td>\n",
       "      <td>326</td>\n",
       "      <td>0</td>\n",
       "      <td>0</td>\n",
       "      <td>0</td>\n",
       "      <td>0</td>\n",
       "      <td>0</td>\n",
       "    </tr>\n",
       "    <tr>\n",
       "      <th>2</th>\n",
       "      <td>180000</td>\n",
       "      <td>0</td>\n",
       "      <td>27</td>\n",
       "      <td>-2</td>\n",
       "      <td>-2</td>\n",
       "      <td>-2</td>\n",
       "      <td>-2</td>\n",
       "      <td>-2</td>\n",
       "      <td>-2</td>\n",
       "      <td>0</td>\n",
       "      <td>...</td>\n",
       "      <td>0</td>\n",
       "      <td>0</td>\n",
       "      <td>0</td>\n",
       "      <td>0</td>\n",
       "      <td>0</td>\n",
       "      <td>0</td>\n",
       "      <td>0</td>\n",
       "      <td>1</td>\n",
       "      <td>0</td>\n",
       "      <td>0</td>\n",
       "    </tr>\n",
       "    <tr>\n",
       "      <th>3</th>\n",
       "      <td>80000</td>\n",
       "      <td>1</td>\n",
       "      <td>32</td>\n",
       "      <td>0</td>\n",
       "      <td>0</td>\n",
       "      <td>0</td>\n",
       "      <td>0</td>\n",
       "      <td>0</td>\n",
       "      <td>0</td>\n",
       "      <td>51372</td>\n",
       "      <td>...</td>\n",
       "      <td>1700</td>\n",
       "      <td>1522</td>\n",
       "      <td>1548</td>\n",
       "      <td>1488</td>\n",
       "      <td>1500</td>\n",
       "      <td>0</td>\n",
       "      <td>0</td>\n",
       "      <td>0</td>\n",
       "      <td>1</td>\n",
       "      <td>0</td>\n",
       "    </tr>\n",
       "    <tr>\n",
       "      <th>4</th>\n",
       "      <td>10000</td>\n",
       "      <td>1</td>\n",
       "      <td>27</td>\n",
       "      <td>0</td>\n",
       "      <td>0</td>\n",
       "      <td>0</td>\n",
       "      <td>0</td>\n",
       "      <td>0</td>\n",
       "      <td>0</td>\n",
       "      <td>8257</td>\n",
       "      <td>...</td>\n",
       "      <td>1100</td>\n",
       "      <td>600</td>\n",
       "      <td>300</td>\n",
       "      <td>300</td>\n",
       "      <td>1000</td>\n",
       "      <td>1</td>\n",
       "      <td>0</td>\n",
       "      <td>0</td>\n",
       "      <td>1</td>\n",
       "      <td>0</td>\n",
       "    </tr>\n",
       "  </tbody>\n",
       "</table>\n",
       "<p>5 rows × 26 columns</p>\n",
       "</div>"
      ],
      "text/plain": [
       "   limit_bal  male  age  pay_0  pay_2  pay_3  pay_4  pay_5  pay_6  bill_amt1  \\\n",
       "0     220000     0   36      0      0      0      0      0      0     222598   \n",
       "1     200000     0   29     -1     -1     -1     -1     -1     -1        326   \n",
       "2     180000     0   27     -2     -2     -2     -2     -2     -2          0   \n",
       "3      80000     1   32      0      0      0      0      0      0      51372   \n",
       "4      10000     1   27      0      0      0      0      0      0       8257   \n",
       "\n",
       "   ...  pay_amt2  pay_amt3  pay_amt4  pay_amt5  pay_amt6  default  other  \\\n",
       "0  ...      8018     10121      6006     10987    143779        1      0   \n",
       "1  ...       326       326       326       326       326        0      0   \n",
       "2  ...         0         0         0         0         0        0      0   \n",
       "3  ...      1700      1522      1548      1488      1500        0      0   \n",
       "4  ...      1100       600       300       300      1000        1      0   \n",
       "\n",
       "   post_grad  university  married  \n",
       "0          1           0        0  \n",
       "1          0           0        0  \n",
       "2          1           0        0  \n",
       "3          0           1        0  \n",
       "4          0           1        0  \n",
       "\n",
       "[5 rows x 26 columns]"
      ]
     },
     "execution_count": 7,
     "metadata": {},
     "output_type": "execute_result"
    }
   ],
   "source": [
    "def marriage_categorization(n):\n",
    "    if n == 1:\n",
    "        return 'married'\n",
    "    else: \n",
    "        return 'not_married'\n",
    "\n",
    "mar_cat = df_1.marriage.apply(marriage_categorization)\n",
    "mar_cat_dummies = pd.get_dummies(mar_cat)\n",
    "df_2= df_1.drop(columns=['marriage'])\n",
    "df_2 = pd.concat([df_2, mar_cat_dummies], axis=1)\n",
    "df_2.drop(columns=['not_married'], inplace=True)\n",
    "df_2.head()"
   ]
  },
  {
   "cell_type": "markdown",
   "metadata": {},
   "source": [
    "# pay"
   ]
  },
  {
   "cell_type": "code",
   "execution_count": 8,
   "metadata": {},
   "outputs": [
    {
     "data": {
      "text/html": [
       "<div>\n",
       "<style scoped>\n",
       "    .dataframe tbody tr th:only-of-type {\n",
       "        vertical-align: middle;\n",
       "    }\n",
       "\n",
       "    .dataframe tbody tr th {\n",
       "        vertical-align: top;\n",
       "    }\n",
       "\n",
       "    .dataframe thead th {\n",
       "        text-align: right;\n",
       "    }\n",
       "</style>\n",
       "<table border=\"1\" class=\"dataframe\">\n",
       "  <thead>\n",
       "    <tr style=\"text-align: right;\">\n",
       "      <th></th>\n",
       "      <th>limit_bal</th>\n",
       "      <th>male</th>\n",
       "      <th>age</th>\n",
       "      <th>bill_amt1</th>\n",
       "      <th>bill_amt2</th>\n",
       "      <th>bill_amt3</th>\n",
       "      <th>bill_amt4</th>\n",
       "      <th>bill_amt5</th>\n",
       "      <th>bill_amt6</th>\n",
       "      <th>pay_amt1</th>\n",
       "      <th>...</th>\n",
       "      <th>pay_6_-2</th>\n",
       "      <th>pay_6_-1</th>\n",
       "      <th>pay_6_0</th>\n",
       "      <th>pay_6_2</th>\n",
       "      <th>pay_6_3</th>\n",
       "      <th>pay_6_4</th>\n",
       "      <th>pay_6_5</th>\n",
       "      <th>pay_6_6</th>\n",
       "      <th>pay_6_7</th>\n",
       "      <th>pay_6_8</th>\n",
       "    </tr>\n",
       "  </thead>\n",
       "  <tbody>\n",
       "    <tr>\n",
       "      <th>0</th>\n",
       "      <td>220000</td>\n",
       "      <td>0</td>\n",
       "      <td>36</td>\n",
       "      <td>222598</td>\n",
       "      <td>222168</td>\n",
       "      <td>217900</td>\n",
       "      <td>221193</td>\n",
       "      <td>181859</td>\n",
       "      <td>184605</td>\n",
       "      <td>10000</td>\n",
       "      <td>...</td>\n",
       "      <td>0</td>\n",
       "      <td>0</td>\n",
       "      <td>1</td>\n",
       "      <td>0</td>\n",
       "      <td>0</td>\n",
       "      <td>0</td>\n",
       "      <td>0</td>\n",
       "      <td>0</td>\n",
       "      <td>0</td>\n",
       "      <td>0</td>\n",
       "    </tr>\n",
       "    <tr>\n",
       "      <th>1</th>\n",
       "      <td>200000</td>\n",
       "      <td>0</td>\n",
       "      <td>29</td>\n",
       "      <td>326</td>\n",
       "      <td>326</td>\n",
       "      <td>326</td>\n",
       "      <td>326</td>\n",
       "      <td>326</td>\n",
       "      <td>326</td>\n",
       "      <td>326</td>\n",
       "      <td>...</td>\n",
       "      <td>0</td>\n",
       "      <td>1</td>\n",
       "      <td>0</td>\n",
       "      <td>0</td>\n",
       "      <td>0</td>\n",
       "      <td>0</td>\n",
       "      <td>0</td>\n",
       "      <td>0</td>\n",
       "      <td>0</td>\n",
       "      <td>0</td>\n",
       "    </tr>\n",
       "    <tr>\n",
       "      <th>2</th>\n",
       "      <td>180000</td>\n",
       "      <td>0</td>\n",
       "      <td>27</td>\n",
       "      <td>0</td>\n",
       "      <td>0</td>\n",
       "      <td>0</td>\n",
       "      <td>0</td>\n",
       "      <td>0</td>\n",
       "      <td>0</td>\n",
       "      <td>0</td>\n",
       "      <td>...</td>\n",
       "      <td>1</td>\n",
       "      <td>0</td>\n",
       "      <td>0</td>\n",
       "      <td>0</td>\n",
       "      <td>0</td>\n",
       "      <td>0</td>\n",
       "      <td>0</td>\n",
       "      <td>0</td>\n",
       "      <td>0</td>\n",
       "      <td>0</td>\n",
       "    </tr>\n",
       "    <tr>\n",
       "      <th>3</th>\n",
       "      <td>80000</td>\n",
       "      <td>1</td>\n",
       "      <td>32</td>\n",
       "      <td>51372</td>\n",
       "      <td>51872</td>\n",
       "      <td>47593</td>\n",
       "      <td>43882</td>\n",
       "      <td>42256</td>\n",
       "      <td>42527</td>\n",
       "      <td>1853</td>\n",
       "      <td>...</td>\n",
       "      <td>0</td>\n",
       "      <td>0</td>\n",
       "      <td>1</td>\n",
       "      <td>0</td>\n",
       "      <td>0</td>\n",
       "      <td>0</td>\n",
       "      <td>0</td>\n",
       "      <td>0</td>\n",
       "      <td>0</td>\n",
       "      <td>0</td>\n",
       "    </tr>\n",
       "    <tr>\n",
       "      <th>4</th>\n",
       "      <td>10000</td>\n",
       "      <td>1</td>\n",
       "      <td>27</td>\n",
       "      <td>8257</td>\n",
       "      <td>7995</td>\n",
       "      <td>4878</td>\n",
       "      <td>5444</td>\n",
       "      <td>2639</td>\n",
       "      <td>2697</td>\n",
       "      <td>2000</td>\n",
       "      <td>...</td>\n",
       "      <td>0</td>\n",
       "      <td>0</td>\n",
       "      <td>1</td>\n",
       "      <td>0</td>\n",
       "      <td>0</td>\n",
       "      <td>0</td>\n",
       "      <td>0</td>\n",
       "      <td>0</td>\n",
       "      <td>0</td>\n",
       "      <td>0</td>\n",
       "    </tr>\n",
       "  </tbody>\n",
       "</table>\n",
       "<p>5 rows × 84 columns</p>\n",
       "</div>"
      ],
      "text/plain": [
       "   limit_bal  male  age  bill_amt1  bill_amt2  bill_amt3  bill_amt4  \\\n",
       "0     220000     0   36     222598     222168     217900     221193   \n",
       "1     200000     0   29        326        326        326        326   \n",
       "2     180000     0   27          0          0          0          0   \n",
       "3      80000     1   32      51372      51872      47593      43882   \n",
       "4      10000     1   27       8257       7995       4878       5444   \n",
       "\n",
       "   bill_amt5  bill_amt6  pay_amt1  ...  pay_6_-2  pay_6_-1  pay_6_0  pay_6_2  \\\n",
       "0     181859     184605     10000  ...         0         0        1        0   \n",
       "1        326        326       326  ...         0         1        0        0   \n",
       "2          0          0         0  ...         1         0        0        0   \n",
       "3      42256      42527      1853  ...         0         0        1        0   \n",
       "4       2639       2697      2000  ...         0         0        1        0   \n",
       "\n",
       "   pay_6_3  pay_6_4  pay_6_5  pay_6_6  pay_6_7  pay_6_8  \n",
       "0        0        0        0        0        0        0  \n",
       "1        0        0        0        0        0        0  \n",
       "2        0        0        0        0        0        0  \n",
       "3        0        0        0        0        0        0  \n",
       "4        0        0        0        0        0        0  \n",
       "\n",
       "[5 rows x 84 columns]"
      ]
     },
     "execution_count": 8,
     "metadata": {},
     "output_type": "execute_result"
    }
   ],
   "source": [
    "pay = [\n",
    " 'pay_0',\n",
    " 'pay_2',\n",
    " 'pay_3',\n",
    " 'pay_4',\n",
    " 'pay_5',\n",
    " 'pay_6',\n",
    "]\n",
    "\n",
    "pay_list = [pd.get_dummies(df[column], prefix=(column)) for column in pay]\n",
    "pay_list_dummies = pd.concat(pay_list, axis=1)\n",
    "df_3 = pd.concat([df_2, pay_list_dummies], axis=1)\n",
    "df_3.drop(columns=pay, inplace=True)\n",
    "df_3.head()"
   ]
  },
  {
   "cell_type": "code",
   "execution_count": 10,
   "metadata": {},
   "outputs": [
    {
     "data": {
      "text/plain": [
       "(22499, 64)"
      ]
     },
     "execution_count": 10,
     "metadata": {},
     "output_type": "execute_result"
    }
   ],
   "source": [
    "pay_list_dummies.shape"
   ]
  },
  {
   "cell_type": "markdown",
   "metadata": {},
   "source": [
    "# Fit a model"
   ]
  },
  {
   "cell_type": "code",
   "execution_count": 8,
   "metadata": {},
   "outputs": [
    {
     "data": {
      "text/plain": [
       "((16874, 83), (5625, 83), (16874,), (5625,))"
      ]
     },
     "execution_count": 8,
     "metadata": {},
     "output_type": "execute_result"
    }
   ],
   "source": [
    "# split the data\n",
    "\n",
    "X = df_3.drop(columns=['default'])\n",
    "y = df_3.default\n",
    "\n",
    "\n",
    "\n",
    "# Train test split\n",
    "\n",
    "X_train, X_test, y_train, y_test = train_test_split(X,y,\n",
    "                                                    test_size = 0.25,\n",
    "                                                    random_state = 42)\n",
    "\n",
    "# normalize the data\n",
    "scalar = StandardScaler()\n",
    "\n",
    "X_train_scaled = scalar.fit_transform(X_train)\n",
    "X_test_scaled = scalar.transform(X_test)\n",
    "\n",
    "X_train.shape, X_test.shape, y_train.shape, y_test.shape"
   ]
  },
  {
   "cell_type": "code",
   "execution_count": 9,
   "metadata": {},
   "outputs": [
    {
     "name": "stderr",
     "output_type": "stream",
     "text": [
      "[Parallel(n_jobs=-1)]: Using backend LokyBackend with 4 concurrent workers.\n"
     ]
    },
    {
     "name": "stdout",
     "output_type": "stream",
     "text": [
      "the baseline cross validation is 0.5253272780856306\n"
     ]
    },
    {
     "name": "stderr",
     "output_type": "stream",
     "text": [
      "[Parallel(n_jobs=-1)]: Done  10 out of  10 | elapsed:    7.4s finished\n"
     ]
    }
   ],
   "source": [
    "logReg = LogisticRegression(class_weight = 'balanced')\n",
    "\n",
    "logReg.fit(X_train_scaled, y_train)\n",
    "y_hat = logReg.predict(X_test_scaled)\n",
    "f1_score(y_test, y_hat)\n",
    "arr = cross_val_score(logReg,X_train_scaled, y_train, cv=10, scoring='f1', verbose = 1, n_jobs=-1)\n",
    "baseline_CV = np.mean(arr)    \n",
    "print(f\"the baseline cross validation is {baseline_CV}\")"
   ]
  },
  {
   "cell_type": "markdown",
   "metadata": {},
   "source": [
    "# Add a delinquency column"
   ]
  },
  {
   "cell_type": "code",
   "execution_count": 10,
   "metadata": {},
   "outputs": [],
   "source": [
    "delinquency = df[pay].sum(axis=1)\n",
    "df_4 = df_3.copy()\n",
    "df_4['deli'] = delinquency"
   ]
  },
  {
   "cell_type": "code",
   "execution_count": 11,
   "metadata": {},
   "outputs": [
    {
     "data": {
      "text/plain": [
       "((16874, 84), (5625, 84), (16874,), (5625,))"
      ]
     },
     "execution_count": 11,
     "metadata": {},
     "output_type": "execute_result"
    }
   ],
   "source": [
    "# split the data\n",
    "\n",
    "X = df_4.drop(columns=['default'])\n",
    "y = df_4.default\n",
    "\n",
    "# Train test split\n",
    "\n",
    "X_train, X_test, y_train, y_test = train_test_split(X,y,\n",
    "                                                    test_size = 0.25,\n",
    "                                                    random_state = 42)\n",
    "\n",
    "# normalize the data\n",
    "scalar = StandardScaler()\n",
    "\n",
    "X_train_scaled = scalar.fit_transform(X_train)\n",
    "X_test_scaled = scalar.transform(X_test)\n",
    "\n",
    "X_train.shape, X_test.shape, y_train.shape, y_test.shape"
   ]
  },
  {
   "cell_type": "code",
   "execution_count": 12,
   "metadata": {},
   "outputs": [
    {
     "name": "stderr",
     "output_type": "stream",
     "text": [
      "[Parallel(n_jobs=-1)]: Using backend LokyBackend with 4 concurrent workers.\n"
     ]
    },
    {
     "name": "stdout",
     "output_type": "stream",
     "text": [
      "the delinquency cross validation is 0.5279737843523791\n"
     ]
    },
    {
     "name": "stderr",
     "output_type": "stream",
     "text": [
      "[Parallel(n_jobs=-1)]: Done  10 out of  10 | elapsed:   12.7s finished\n"
     ]
    }
   ],
   "source": [
    "logReg = LogisticRegression(class_weight = 'balanced', C=0.1, solver='saga', penalty='l1', max_iter=100)\n",
    "\n",
    "logReg.fit(X_train_scaled, y_train)\n",
    "y_hat = logReg.predict(X_test_scaled)\n",
    "f1_score(y_test, y_hat)\n",
    "arr = cross_val_score(logReg, X_train_scaled, y_train, cv=10, scoring='f1', verbose = 1, n_jobs=-1)\n",
    "delinquency_CV = np.mean(arr)    \n",
    "print(f\"the delinquency cross validation is {delinquency_CV}\")"
   ]
  },
  {
   "cell_type": "markdown",
   "metadata": {},
   "source": [
    "# Credit utilization score"
   ]
  },
  {
   "cell_type": "code",
   "execution_count": 13,
   "metadata": {},
   "outputs": [],
   "source": [
    "bills = [\n",
    "    'bill_amt1',\n",
    "    'bill_amt2',\n",
    "    'bill_amt3',\n",
    "    'bill_amt4',\n",
    "    'bill_amt5',\n",
    "    'bill_amt6'\n",
    "]\n",
    "\n",
    "payments = [\n",
    "     'pay_amt1',\n",
    "     'pay_amt2',\n",
    "     'pay_amt3',\n",
    "     'pay_amt4',\n",
    "     'pay_amt5',\n",
    "     'pay_amt6',\n",
    "]\n",
    "\n",
    "billing = df[bills].sum(axis=1)\n",
    "paying = df[payments].sum(axis=1)\n",
    "account_balance = billing - paying\n",
    "credit_utility = account_balance/df.limit_bal\n",
    "df_5 = df_4.copy()\n",
    "df_5['credit_utility'] = credit_utility\n",
    "df_5['bills'] = billing\n",
    "df_5['payment'] = paying\n",
    "df_5.drop(columns=payments+bills, inplace=True)"
   ]
  },
  {
   "cell_type": "code",
   "execution_count": 14,
   "metadata": {},
   "outputs": [
    {
     "data": {
      "text/plain": [
       "((16874, 75), (5625, 75), (16874,), (5625,))"
      ]
     },
     "execution_count": 14,
     "metadata": {},
     "output_type": "execute_result"
    }
   ],
   "source": [
    "X = df_5.drop(columns=['default'])\n",
    "y = df_5.default\n",
    "\n",
    "# Train test split\n",
    "\n",
    "X_train, X_test, y_train, y_test = train_test_split(X,y,\n",
    "                                                    test_size = 0.25,\n",
    "                                                    random_state = 42)\n",
    "\n",
    "# normalize the data\n",
    "scalar = StandardScaler()\n",
    "\n",
    "X_train_scaled = scalar.fit_transform(X_train)\n",
    "X_test_scaled = scalar.transform(X_test)\n",
    "\n",
    "X_train.shape, X_test.shape, y_train.shape, y_test.shape"
   ]
  },
  {
   "cell_type": "code",
   "execution_count": 15,
   "metadata": {},
   "outputs": [
    {
     "name": "stderr",
     "output_type": "stream",
     "text": [
      "[Parallel(n_jobs=-1)]: Using backend LokyBackend with 4 concurrent workers.\n"
     ]
    },
    {
     "name": "stdout",
     "output_type": "stream",
     "text": [
      "the credit cross validation is 0.5273731221460495\n"
     ]
    },
    {
     "name": "stderr",
     "output_type": "stream",
     "text": [
      "[Parallel(n_jobs=-1)]: Done  10 out of  10 | elapsed:   11.3s finished\n"
     ]
    }
   ],
   "source": [
    "logReg = LogisticRegression(class_weight = 'balanced',\n",
    "                            C=0.1, solver='saga',\n",
    "                            penalty='elasticnet',\n",
    "                            max_iter=100,l1_ratio=1)\n",
    "\n",
    "logReg.fit(X_train_scaled, y_train)\n",
    "\n",
    "arr = cross_val_score(logReg, X_train_scaled, y_train, cv=10, scoring='f1', verbose = 1, n_jobs=-1)\n",
    "credit_CV = np.mean(arr)    \n",
    "print(f\"the credit cross validation is {credit_CV}\")"
   ]
  },
  {
   "cell_type": "code",
   "execution_count": 16,
   "metadata": {},
   "outputs": [],
   "source": [
    "droppable = [x[0] for x in (zip(df_5.columns.to_list(), logReg.coef_[0])) if x[1] == 0.0 ]"
   ]
  },
  {
   "cell_type": "code",
   "execution_count": 17,
   "metadata": {},
   "outputs": [],
   "source": [
    "df_6 = df_5.drop(columns=droppable)"
   ]
  },
  {
   "cell_type": "code",
   "execution_count": 18,
   "metadata": {},
   "outputs": [
    {
     "data": {
      "text/plain": [
       "((16874, 67), (5625, 67), (16874,), (5625,))"
      ]
     },
     "execution_count": 18,
     "metadata": {},
     "output_type": "execute_result"
    }
   ],
   "source": [
    "X = df_6.drop(columns=['default'])\n",
    "y = df_6.default\n",
    "\n",
    "# Train test split\n",
    "\n",
    "X_train, X_test, y_train, y_test = train_test_split(X,y,\n",
    "                                                    test_size = 0.25,\n",
    "                                                    random_state = 42)\n",
    "\n",
    "# normalize the data\n",
    "scalar = StandardScaler()\n",
    "\n",
    "X_train_scaled = scalar.fit_transform(X_train)\n",
    "X_test_scaled = scalar.transform(X_test)\n",
    "\n",
    "X_train.shape, X_test.shape, y_train.shape, y_test.shape"
   ]
  },
  {
   "cell_type": "code",
   "execution_count": 19,
   "metadata": {},
   "outputs": [
    {
     "name": "stderr",
     "output_type": "stream",
     "text": [
      "[Parallel(n_jobs=-1)]: Using backend LokyBackend with 4 concurrent workers.\n"
     ]
    },
    {
     "name": "stdout",
     "output_type": "stream",
     "text": [
      "the regularized cross validation is 0.5274531207818756\n"
     ]
    },
    {
     "name": "stderr",
     "output_type": "stream",
     "text": [
      "[Parallel(n_jobs=-1)]: Done  10 out of  10 | elapsed:   11.7s finished\n"
     ]
    }
   ],
   "source": [
    "logReg = LogisticRegression(class_weight = 'balanced',\n",
    "                            C=0.1, solver='saga',\n",
    "                            penalty='elasticnet',\n",
    "                            max_iter=100,l1_ratio=1)\n",
    "\n",
    "logReg.fit(X_train_scaled, y_train)\n",
    "\n",
    "arr = cross_val_score(logReg, X_train_scaled, y_train, cv=10, scoring='f1', verbose = 1, n_jobs=-1)\n",
    "regularized_CV = np.mean(arr)    \n",
    "print(f\"the regularized cross validation is {regularized_CV}\")"
   ]
  },
  {
   "cell_type": "code",
   "execution_count": 20,
   "metadata": {},
   "outputs": [
    {
     "data": {
      "text/plain": [
       "array([[-0.20514925,  0.0726961 ,  0.01025971, -0.08881623, -0.01628793,\n",
       "         0.0103487 ,  0.08027158, -0.11853044,  0.02264333, -0.29711195,\n",
       "         0.065846  ,  0.42895222,  0.14325178,  0.04578842,  0.0356991 ,\n",
       "        -0.02303592,  0.        ,  0.04223354, -0.02618457, -0.00097304,\n",
       "        -0.05234305,  0.03002817,  0.01501038, -0.0524472 ,  0.01565564,\n",
       "         0.05179493,  0.00498681,  0.        , -0.04565155, -0.02444971,\n",
       "        -0.00199874,  0.09853537, -0.01067634, -0.02226729,  0.        ,\n",
       "         0.        , -0.0262301 , -0.00817023, -0.06957857, -0.11665863,\n",
       "         0.03221561, -0.00615438,  0.01064837, -0.03527543, -0.01553757,\n",
       "        -0.03509629,  0.        , -0.04774308, -0.07468749,  0.        ,\n",
       "        -0.00439452,  0.00194106, -0.00420842,  0.02293234,  0.00980277,\n",
       "        -0.00434436, -0.16721126,  0.00959031, -0.00974594, -0.00781664,\n",
       "         0.        ,  0.        ,  0.02529837,  0.1998704 ,  0.15005424,\n",
       "         0.07279146, -0.18703371]])"
      ]
     },
     "execution_count": 20,
     "metadata": {},
     "output_type": "execute_result"
    }
   ],
   "source": [
    "logReg.coef_"
   ]
  },
  {
   "cell_type": "code",
   "execution_count": 21,
   "metadata": {},
   "outputs": [],
   "source": [
    "droppable_2 = [x[0] for x in (zip(df_5.columns.to_list(), logReg.coef_[0])) if x[1] == 0.0 ]"
   ]
  },
  {
   "cell_type": "code",
   "execution_count": 22,
   "metadata": {},
   "outputs": [
    {
     "data": {
      "text/plain": [
       "['pay_0_6',\n",
       " 'pay_2_6',\n",
       " 'pay_3_2',\n",
       " 'pay_3_3',\n",
       " 'pay_4_3',\n",
       " 'pay_4_6',\n",
       " 'pay_5_7',\n",
       " 'pay_5_8']"
      ]
     },
     "execution_count": 22,
     "metadata": {},
     "output_type": "execute_result"
    }
   ],
   "source": [
    "droppable_2"
   ]
  },
  {
   "cell_type": "code",
   "execution_count": 23,
   "metadata": {},
   "outputs": [],
   "source": [
    "droppable_2 = ['pay_0_6',\n",
    " 'pay_2_6',\n",
    " 'pay_3_2',\n",
    " 'pay_4_3',\n",
    " 'pay_5_7',\n",
    " 'pay_5_8']\n",
    "df_7 = df_6.drop(columns=droppable_2)"
   ]
  },
  {
   "cell_type": "code",
   "execution_count": 24,
   "metadata": {},
   "outputs": [
    {
     "data": {
      "text/plain": [
       "((16874, 61), (5625, 61), (16874,), (5625,))"
      ]
     },
     "execution_count": 24,
     "metadata": {},
     "output_type": "execute_result"
    }
   ],
   "source": [
    "X = df_7.drop(columns=['default'])\n",
    "y = df_7.default\n",
    "\n",
    "# Train test split\n",
    "\n",
    "X_train, X_test, y_train, y_test = train_test_split(X,y,\n",
    "                                                    test_size = 0.25,\n",
    "                                                    random_state = 42)\n",
    "\n",
    "# normalize the data\n",
    "scalar = StandardScaler()\n",
    "\n",
    "X_train_scaled = scalar.fit_transform(X_train)\n",
    "X_test_scaled = scalar.transform(X_test)\n",
    "\n",
    "X_train.shape, X_test.shape, y_train.shape, y_test.shape"
   ]
  },
  {
   "cell_type": "code",
   "execution_count": 25,
   "metadata": {},
   "outputs": [
    {
     "name": "stderr",
     "output_type": "stream",
     "text": [
      "[Parallel(n_jobs=-1)]: Using backend LokyBackend with 4 concurrent workers.\n"
     ]
    },
    {
     "name": "stdout",
     "output_type": "stream",
     "text": [
      "the df_7 cross validation is 0.5283509129201117\n"
     ]
    },
    {
     "name": "stderr",
     "output_type": "stream",
     "text": [
      "[Parallel(n_jobs=-1)]: Done  10 out of  10 | elapsed:   11.5s finished\n"
     ]
    }
   ],
   "source": [
    "logReg = LogisticRegression(class_weight = 'balanced',\n",
    "                            C=0.1, solver='saga',\n",
    "                            penalty='elasticnet',\n",
    "                            max_iter=100,l1_ratio=1)\n",
    "\n",
    "logReg.fit(X_train_scaled, y_train)\n",
    "\n",
    "arr = cross_val_score(logReg, X_train_scaled, y_train, cv=10, scoring='f1', verbose = 1, n_jobs=-1)\n",
    "regularized_CV = np.mean(arr)    \n",
    "print(f\"the df_7 cross validation is {regularized_CV}\")"
   ]
  },
  {
   "cell_type": "code",
   "execution_count": 26,
   "metadata": {},
   "outputs": [],
   "source": [
    "droppable_3 = [x[0] for x in (zip(df_7.columns.to_list(), logReg.coef_[0])) if x[1] == 0.0 ]"
   ]
  },
  {
   "cell_type": "code",
   "execution_count": 27,
   "metadata": {},
   "outputs": [],
   "source": [
    "df_8 = df_7.drop(columns=droppable_3)"
   ]
  },
  {
   "cell_type": "code",
   "execution_count": 28,
   "metadata": {},
   "outputs": [
    {
     "data": {
      "text/plain": [
       "((16874, 52), (5625, 52), (16874,), (5625,))"
      ]
     },
     "execution_count": 28,
     "metadata": {},
     "output_type": "execute_result"
    }
   ],
   "source": [
    "X = df_8.drop(columns=['default'])\n",
    "y = df_8.default\n",
    "\n",
    "# Train test split\n",
    "\n",
    "X_train, X_test, y_train, y_test = train_test_split(X,y,\n",
    "                                                    test_size = 0.25,\n",
    "                                                    random_state = 42)\n",
    "\n",
    "# normalize the data\n",
    "scalar = StandardScaler()\n",
    "\n",
    "X_train_scaled = scalar.fit_transform(X_train)\n",
    "X_test_scaled = scalar.transform(X_test)\n",
    "\n",
    "X_train.shape, X_test.shape, y_train.shape, y_test.shape"
   ]
  },
  {
   "cell_type": "code",
   "execution_count": 29,
   "metadata": {},
   "outputs": [
    {
     "data": {
      "text/html": [
       "<div>\n",
       "<style scoped>\n",
       "    .dataframe tbody tr th:only-of-type {\n",
       "        vertical-align: middle;\n",
       "    }\n",
       "\n",
       "    .dataframe tbody tr th {\n",
       "        vertical-align: top;\n",
       "    }\n",
       "\n",
       "    .dataframe thead th {\n",
       "        text-align: right;\n",
       "    }\n",
       "</style>\n",
       "<table border=\"1\" class=\"dataframe\">\n",
       "  <thead>\n",
       "    <tr style=\"text-align: right;\">\n",
       "      <th></th>\n",
       "      <th>limit_bal</th>\n",
       "      <th>male</th>\n",
       "      <th>age</th>\n",
       "      <th>default</th>\n",
       "      <th>other</th>\n",
       "      <th>post_grad</th>\n",
       "      <th>university</th>\n",
       "      <th>married</th>\n",
       "      <th>pay_0_-2</th>\n",
       "      <th>pay_0_-1</th>\n",
       "      <th>...</th>\n",
       "      <th>pay_6_-1</th>\n",
       "      <th>pay_6_0</th>\n",
       "      <th>pay_6_2</th>\n",
       "      <th>pay_6_4</th>\n",
       "      <th>pay_6_7</th>\n",
       "      <th>pay_6_8</th>\n",
       "      <th>deli</th>\n",
       "      <th>credit_utility</th>\n",
       "      <th>bills</th>\n",
       "      <th>payment</th>\n",
       "    </tr>\n",
       "  </thead>\n",
       "  <tbody>\n",
       "    <tr>\n",
       "      <th>0</th>\n",
       "      <td>220000</td>\n",
       "      <td>0</td>\n",
       "      <td>36</td>\n",
       "      <td>1</td>\n",
       "      <td>0</td>\n",
       "      <td>1</td>\n",
       "      <td>0</td>\n",
       "      <td>0</td>\n",
       "      <td>0</td>\n",
       "      <td>0</td>\n",
       "      <td>...</td>\n",
       "      <td>0</td>\n",
       "      <td>1</td>\n",
       "      <td>0</td>\n",
       "      <td>0</td>\n",
       "      <td>0</td>\n",
       "      <td>0</td>\n",
       "      <td>0</td>\n",
       "      <td>4.824600</td>\n",
       "      <td>1250323</td>\n",
       "      <td>188911</td>\n",
       "    </tr>\n",
       "    <tr>\n",
       "      <th>1</th>\n",
       "      <td>200000</td>\n",
       "      <td>0</td>\n",
       "      <td>29</td>\n",
       "      <td>0</td>\n",
       "      <td>0</td>\n",
       "      <td>0</td>\n",
       "      <td>0</td>\n",
       "      <td>0</td>\n",
       "      <td>0</td>\n",
       "      <td>1</td>\n",
       "      <td>...</td>\n",
       "      <td>1</td>\n",
       "      <td>0</td>\n",
       "      <td>0</td>\n",
       "      <td>0</td>\n",
       "      <td>0</td>\n",
       "      <td>0</td>\n",
       "      <td>-6</td>\n",
       "      <td>0.000000</td>\n",
       "      <td>1956</td>\n",
       "      <td>1956</td>\n",
       "    </tr>\n",
       "    <tr>\n",
       "      <th>2</th>\n",
       "      <td>180000</td>\n",
       "      <td>0</td>\n",
       "      <td>27</td>\n",
       "      <td>0</td>\n",
       "      <td>0</td>\n",
       "      <td>1</td>\n",
       "      <td>0</td>\n",
       "      <td>0</td>\n",
       "      <td>1</td>\n",
       "      <td>0</td>\n",
       "      <td>...</td>\n",
       "      <td>0</td>\n",
       "      <td>0</td>\n",
       "      <td>0</td>\n",
       "      <td>0</td>\n",
       "      <td>0</td>\n",
       "      <td>0</td>\n",
       "      <td>-12</td>\n",
       "      <td>0.000000</td>\n",
       "      <td>0</td>\n",
       "      <td>0</td>\n",
       "    </tr>\n",
       "    <tr>\n",
       "      <th>3</th>\n",
       "      <td>80000</td>\n",
       "      <td>1</td>\n",
       "      <td>32</td>\n",
       "      <td>0</td>\n",
       "      <td>0</td>\n",
       "      <td>0</td>\n",
       "      <td>1</td>\n",
       "      <td>0</td>\n",
       "      <td>0</td>\n",
       "      <td>0</td>\n",
       "      <td>...</td>\n",
       "      <td>0</td>\n",
       "      <td>1</td>\n",
       "      <td>0</td>\n",
       "      <td>0</td>\n",
       "      <td>0</td>\n",
       "      <td>0</td>\n",
       "      <td>0</td>\n",
       "      <td>3.373638</td>\n",
       "      <td>279502</td>\n",
       "      <td>9611</td>\n",
       "    </tr>\n",
       "    <tr>\n",
       "      <th>4</th>\n",
       "      <td>10000</td>\n",
       "      <td>1</td>\n",
       "      <td>27</td>\n",
       "      <td>1</td>\n",
       "      <td>0</td>\n",
       "      <td>0</td>\n",
       "      <td>1</td>\n",
       "      <td>0</td>\n",
       "      <td>0</td>\n",
       "      <td>0</td>\n",
       "      <td>...</td>\n",
       "      <td>0</td>\n",
       "      <td>1</td>\n",
       "      <td>0</td>\n",
       "      <td>0</td>\n",
       "      <td>0</td>\n",
       "      <td>0</td>\n",
       "      <td>0</td>\n",
       "      <td>2.661000</td>\n",
       "      <td>31910</td>\n",
       "      <td>5300</td>\n",
       "    </tr>\n",
       "  </tbody>\n",
       "</table>\n",
       "<p>5 rows × 53 columns</p>\n",
       "</div>"
      ],
      "text/plain": [
       "   limit_bal  male  age  default  other  post_grad  university  married  \\\n",
       "0     220000     0   36        1      0          1           0        0   \n",
       "1     200000     0   29        0      0          0           0        0   \n",
       "2     180000     0   27        0      0          1           0        0   \n",
       "3      80000     1   32        0      0          0           1        0   \n",
       "4      10000     1   27        1      0          0           1        0   \n",
       "\n",
       "   pay_0_-2  pay_0_-1  ...  pay_6_-1  pay_6_0  pay_6_2  pay_6_4  pay_6_7  \\\n",
       "0         0         0  ...         0        1        0        0        0   \n",
       "1         0         1  ...         1        0        0        0        0   \n",
       "2         1         0  ...         0        0        0        0        0   \n",
       "3         0         0  ...         0        1        0        0        0   \n",
       "4         0         0  ...         0        1        0        0        0   \n",
       "\n",
       "   pay_6_8  deli  credit_utility    bills  payment  \n",
       "0        0     0        4.824600  1250323   188911  \n",
       "1        0    -6        0.000000     1956     1956  \n",
       "2        0   -12        0.000000        0        0  \n",
       "3        0     0        3.373638   279502     9611  \n",
       "4        0     0        2.661000    31910     5300  \n",
       "\n",
       "[5 rows x 53 columns]"
      ]
     },
     "execution_count": 29,
     "metadata": {},
     "output_type": "execute_result"
    }
   ],
   "source": [
    "df_8.head()"
   ]
  },
  {
   "cell_type": "code",
   "execution_count": 30,
   "metadata": {},
   "outputs": [
    {
     "name": "stderr",
     "output_type": "stream",
     "text": [
      "[Parallel(n_jobs=-1)]: Using backend LokyBackend with 4 concurrent workers.\n"
     ]
    },
    {
     "name": "stdout",
     "output_type": "stream",
     "text": [
      "the df_7 cross validation is 0.529223520871714\n"
     ]
    },
    {
     "name": "stderr",
     "output_type": "stream",
     "text": [
      "[Parallel(n_jobs=-1)]: Done  10 out of  10 | elapsed:    9.0s finished\n"
     ]
    }
   ],
   "source": [
    "logReg = LogisticRegression(class_weight = 'balanced',\n",
    "                            C=0.1, solver='saga',\n",
    "                            penalty='elasticnet',\n",
    "                            max_iter=100,l1_ratio=1)\n",
    "\n",
    "logReg.fit(X_train_scaled, y_train)\n",
    "\n",
    "arr = cross_val_score(logReg, X_train_scaled, y_train, cv=10, scoring='f1', verbose = 1, n_jobs=-1)\n",
    "df_8_CV = np.mean(arr)    \n",
    "print(f\"the df_7 cross validation is {df_8_CV}\")"
   ]
  },
  {
   "cell_type": "code",
   "execution_count": 31,
   "metadata": {},
   "outputs": [],
   "source": [
    "droppable_4 = [x[0] for x in (zip(df_8.columns.to_list(), logReg.coef_[0])) if x[1] == 0.0 ]"
   ]
  },
  {
   "cell_type": "code",
   "execution_count": 32,
   "metadata": {},
   "outputs": [
    {
     "data": {
      "text/plain": [
       "['pay_0_4', 'pay_4_7', 'pay_5_3', 'pay_6_0', 'pay_6_4']"
      ]
     },
     "execution_count": 32,
     "metadata": {},
     "output_type": "execute_result"
    }
   ],
   "source": [
    "droppable_4"
   ]
  },
  {
   "cell_type": "code",
   "execution_count": 33,
   "metadata": {},
   "outputs": [],
   "source": [
    "df_9 = df_8.drop(columns=droppable_4)"
   ]
  },
  {
   "cell_type": "code",
   "execution_count": 34,
   "metadata": {},
   "outputs": [
    {
     "data": {
      "text/plain": [
       "((16874, 47), (5625, 47), (16874,), (5625,))"
      ]
     },
     "execution_count": 34,
     "metadata": {},
     "output_type": "execute_result"
    }
   ],
   "source": [
    "X = df_9.drop(columns=['default'])\n",
    "y = df_9.default\n",
    "\n",
    "# Train test split\n",
    "\n",
    "X_train, X_test, y_train, y_test = train_test_split(X,y,\n",
    "                                                    test_size = 0.25,\n",
    "                                                    random_state = 42)\n",
    "\n",
    "# normalize the data\n",
    "scalar = StandardScaler()\n",
    "\n",
    "X_train_scaled = scalar.fit_transform(X_train)\n",
    "X_test_scaled = scalar.transform(X_test)\n",
    "\n",
    "X_train.shape, X_test.shape, y_train.shape, y_test.shape"
   ]
  },
  {
   "cell_type": "code",
   "execution_count": 35,
   "metadata": {},
   "outputs": [
    {
     "name": "stderr",
     "output_type": "stream",
     "text": [
      "[Parallel(n_jobs=-1)]: Using backend LokyBackend with 4 concurrent workers.\n"
     ]
    },
    {
     "name": "stdout",
     "output_type": "stream",
     "text": [
      "the df_9 cross validation is 0.5294175044823638\n"
     ]
    },
    {
     "name": "stderr",
     "output_type": "stream",
     "text": [
      "[Parallel(n_jobs=-1)]: Done  10 out of  10 | elapsed:    9.2s finished\n"
     ]
    }
   ],
   "source": [
    "logReg = LogisticRegression(class_weight = 'balanced',\n",
    "                            C=0.1, solver='saga',\n",
    "                            penalty='elasticnet',\n",
    "                            max_iter=100,l1_ratio=1)\n",
    "\n",
    "logReg.fit(X_train_scaled, y_train)\n",
    "\n",
    "arr = cross_val_score(logReg, X_train_scaled, y_train, cv=10, scoring='f1', verbose = 1, n_jobs=-1)\n",
    "df_8_CV = np.mean(arr)    \n",
    "print(f\"the df_9 cross validation is {df_8_CV}\")"
   ]
  },
  {
   "cell_type": "code",
   "execution_count": 36,
   "metadata": {},
   "outputs": [
    {
     "data": {
      "text/plain": [
       "array([[-2.08805110e-01,  7.20741748e-02,  1.02511326e-02,\n",
       "        -8.84288857e-02, -1.65946066e-02,  9.90119543e-03,\n",
       "         8.02296042e-02, -1.36857606e-01,  0.00000000e+00,\n",
       "        -3.19842206e-01,  3.19819693e-02,  4.03172270e-01,\n",
       "         1.25408003e-01, -4.87410349e-04,  6.34945118e-02,\n",
       "         1.07591552e-07, -5.10518236e-02,  4.43607134e-02,\n",
       "         3.57425474e-02,  2.73251905e-03, -5.77914586e-02,\n",
       "        -1.33398702e-01, -1.40938003e-01, -5.26365169e-03,\n",
       "        -3.33099581e-02, -6.85932384e-03,  0.00000000e+00,\n",
       "        -1.29087550e-02,  0.00000000e+00, -5.89987834e-02,\n",
       "        -1.01807861e-01,  3.24592874e-02,  1.50009810e-02,\n",
       "        -4.23256810e-02,  0.00000000e+00, -4.14595374e-02,\n",
       "        -8.13574288e-02,  0.00000000e+00,  1.29219052e-01,\n",
       "         1.08701022e-01,  9.23382450e-02, -5.82647717e-03,\n",
       "         1.11948324e-02,  2.54769482e-01,  1.42397335e-01,\n",
       "         7.81238752e-02, -1.89909593e-01]])"
      ]
     },
     "execution_count": 36,
     "metadata": {},
     "output_type": "execute_result"
    }
   ],
   "source": [
    "logReg.coef_"
   ]
  },
  {
   "cell_type": "code",
   "execution_count": 37,
   "metadata": {},
   "outputs": [],
   "source": [
    "droppable_5 = [x[0] for x in (zip(df_8.columns.to_list(), logReg.coef_[0])) if x[1] == 0.0 ]"
   ]
  },
  {
   "cell_type": "code",
   "execution_count": 38,
   "metadata": {},
   "outputs": [
    {
     "data": {
      "text/plain": [
       "['pay_0_-2', 'pay_3_4', 'pay_3_6', 'pay_4_4', 'pay_5_-2']"
      ]
     },
     "execution_count": 38,
     "metadata": {},
     "output_type": "execute_result"
    }
   ],
   "source": [
    "droppable_5"
   ]
  },
  {
   "cell_type": "code",
   "execution_count": 39,
   "metadata": {},
   "outputs": [],
   "source": [
    "df_10 = df_9.drop(columns=droppable_5)"
   ]
  },
  {
   "cell_type": "code",
   "execution_count": 40,
   "metadata": {},
   "outputs": [
    {
     "data": {
      "text/plain": [
       "((16874, 42), (5625, 42), (16874,), (5625,))"
      ]
     },
     "execution_count": 40,
     "metadata": {},
     "output_type": "execute_result"
    }
   ],
   "source": [
    "X = df_10.drop(columns=['default'])\n",
    "y = df_10.default\n",
    "\n",
    "# Train test split\n",
    "\n",
    "X_train, X_test, y_train, y_test = train_test_split(X,y,\n",
    "                                                    test_size = 0.25,\n",
    "                                                    random_state = 42)\n",
    "\n",
    "# normalize the data\n",
    "scalar = StandardScaler()\n",
    "\n",
    "X_train_scaled = scalar.fit_transform(X_train)\n",
    "X_test_scaled = scalar.transform(X_test)\n",
    "\n",
    "X_train.shape, X_test.shape, y_train.shape, y_test.shape"
   ]
  },
  {
   "cell_type": "code",
   "execution_count": 41,
   "metadata": {},
   "outputs": [
    {
     "name": "stderr",
     "output_type": "stream",
     "text": [
      "[Parallel(n_jobs=-1)]: Using backend LokyBackend with 4 concurrent workers.\n"
     ]
    },
    {
     "name": "stdout",
     "output_type": "stream",
     "text": [
      "the df_9 cross validation is 0.5281629075597395\n"
     ]
    },
    {
     "name": "stderr",
     "output_type": "stream",
     "text": [
      "[Parallel(n_jobs=-1)]: Done  10 out of  10 | elapsed:    9.2s finished\n"
     ]
    }
   ],
   "source": [
    "logReg = LogisticRegression(class_weight = 'balanced',\n",
    "                            C=1, solver='saga',\n",
    "                            penalty='elasticnet',\n",
    "                            max_iter=100,l1_ratio=0.5)\n",
    "\n",
    "logReg.fit(X_train_scaled, y_train)\n",
    "\n",
    "arr = cross_val_score(logReg, X_train_scaled, y_train, cv=10, scoring='f1', verbose = 1, n_jobs=-1)\n",
    "df_10_CV = np.mean(arr)    \n",
    "print(f\"the df_9 cross validation is {df_10_CV}\")"
   ]
  },
  {
   "cell_type": "markdown",
   "metadata": {},
   "source": [
    "# I have removed all the features that I can without lowering my f1. \n",
    "\n",
    "## Now I will remove outliers. Outlier being 5x std away from the mean"
   ]
  },
  {
   "cell_type": "code",
   "execution_count": 42,
   "metadata": {},
   "outputs": [],
   "source": [
    "scalar_10 = StandardScaler()\n",
    "df_10_scaled = scalar_10.fit_transform(df_10)"
   ]
  },
  {
   "cell_type": "code",
   "execution_count": 43,
   "metadata": {},
   "outputs": [
    {
     "data": {
      "text/plain": [
       "1063"
      ]
     },
     "execution_count": 43,
     "metadata": {},
     "output_type": "execute_result"
    }
   ],
   "source": [
    "x = df_10.credit_utility\n",
    "\n",
    "conditions = [\n",
    "    -5 < x,\n",
    "    x < 5,\n",
    "    x<-5,\n",
    "    x>5\n",
    "]\n",
    "\n",
    "choices = [\n",
    "    x,\n",
    "    x,\n",
    "    np.nan,\n",
    "    np.nan\n",
    "]\n",
    "\n",
    "len([x for x in list(np.select(conditions,choices)) if x ==0])"
   ]
  },
  {
   "cell_type": "code",
   "execution_count": 44,
   "metadata": {},
   "outputs": [
    {
     "data": {
      "text/plain": [
       "default\n",
       "0    1600\n",
       "1     777\n",
       "Name: male, dtype: int64"
      ]
     },
     "execution_count": 44,
     "metadata": {},
     "output_type": "execute_result"
    }
   ],
   "source": [
    "df_10[df_10.credit_utility > 5].groupby(['default']).male.count()"
   ]
  },
  {
   "cell_type": "code",
   "execution_count": 45,
   "metadata": {},
   "outputs": [],
   "source": [
    "credit_u = df_10.credit_utility\n",
    "payment = df_10.payment\n",
    "bill = df_10.bills\n",
    "\n",
    "arr_payment = [1 if x > 5 or x < -5 else 0 for x in payment]\n",
    "arr_credit_u = [1 if x > 5 or x < -5 else 0 for x in credit_u]\n",
    "arr_bill = [1 if x > 5 or x < -5 else 0 for x in bill]\n",
    "\n",
    "# print(len(arr_payment), len(arr_credit_u), len(arr_bill))\n",
    "# outliers=[]\n",
    "# for i in range(len(df_10)):\n",
    "#     outliers.append(arr_payment[i] + arr_credit_u[i] + arr_bill[i])\n",
    "\n",
    "# outliers = [1 if x > 0  else 0 for x in outliers]\n",
    "# len(outliers)  - sum(outliers)\n",
    "df_11 = df_10.copy()\n",
    "df_11['pay_outlier'] = arr_payment\n",
    "df_11['bill_outlier']= arr_bill\n",
    "df_11['credit_outlier'] = arr_credit_u"
   ]
  },
  {
   "cell_type": "code",
   "execution_count": 46,
   "metadata": {},
   "outputs": [
    {
     "data": {
      "text/plain": [
       "credit_outlier\n",
       "0    20121\n",
       "1     2378\n",
       "Name: male, dtype: int64"
      ]
     },
     "execution_count": 46,
     "metadata": {},
     "output_type": "execute_result"
    }
   ],
   "source": [
    "df_11.groupby(['credit_outlier']).male.count()"
   ]
  },
  {
   "cell_type": "code",
   "execution_count": 47,
   "metadata": {},
   "outputs": [
    {
     "name": "stderr",
     "output_type": "stream",
     "text": [
      "[Parallel(n_jobs=-1)]: Using backend LokyBackend with 4 concurrent workers.\n"
     ]
    },
    {
     "name": "stdout",
     "output_type": "stream",
     "text": [
      "the df_11 cross validation is 0.5313213653734211\n"
     ]
    },
    {
     "name": "stderr",
     "output_type": "stream",
     "text": [
      "[Parallel(n_jobs=-1)]: Done  10 out of  10 | elapsed:    9.8s finished\n"
     ]
    }
   ],
   "source": [
    "X = df_11.drop(columns=['default'])\n",
    "y = df_11.default\n",
    "\n",
    "# Train test split\n",
    "\n",
    "X_train, X_test, y_train, y_test = train_test_split(X,y,\n",
    "                                                    test_size = 0.25,\n",
    "                                                    random_state = 42)\n",
    "\n",
    "# normalize the data\n",
    "scalar = StandardScaler()\n",
    "\n",
    "X_train_scaled = scalar.fit_transform(X_train)\n",
    "X_test_scaled = scalar.transform(X_test)\n",
    "\n",
    "X_train.shape, X_test.shape, y_train.shape, y_test.shape\n",
    "\n",
    "logReg = LogisticRegression(class_weight = 'balanced',\n",
    "                            C=1, solver='saga',\n",
    "                            penalty='elasticnet',\n",
    "                            max_iter=100,l1_ratio=0.5)\n",
    "\n",
    "logReg.fit(X_train_scaled, y_train)\n",
    "\n",
    "arr = cross_val_score(logReg, X_train_scaled, y_train, cv=10, scoring='f1', verbose = 1, n_jobs=-1)\n",
    "df_11_CV = np.mean(arr)    \n",
    "print(f\"the df_11 cross validation is {df_11_CV}\")"
   ]
  },
  {
   "cell_type": "code",
   "execution_count": 48,
   "metadata": {},
   "outputs": [
    {
     "data": {
      "text/plain": [
       "[]"
      ]
     },
     "execution_count": 48,
     "metadata": {},
     "output_type": "execute_result"
    }
   ],
   "source": [
    "droppable_6 = [x[0] for x in (zip(df_11.columns.to_list(), logReg.coef_[0])) if x[1] == 0.0 ]\n",
    "droppable_6"
   ]
  },
  {
   "cell_type": "code",
   "execution_count": 49,
   "metadata": {},
   "outputs": [
    {
     "data": {
      "text/plain": [
       "45"
      ]
     },
     "execution_count": 49,
     "metadata": {},
     "output_type": "execute_result"
    }
   ],
   "source": [
    "len(logReg.coef_[0])"
   ]
  },
  {
   "cell_type": "markdown",
   "metadata": {},
   "source": [
    "Bill = 0.5311\n",
    "all_3 outlier = 0.5314"
   ]
  },
  {
   "cell_type": "markdown",
   "metadata": {},
   "source": [
    "# All three outliers seems to help the model. Let's run it on the whole data set"
   ]
  },
  {
   "cell_type": "code",
   "execution_count": 50,
   "metadata": {},
   "outputs": [
    {
     "name": "stderr",
     "output_type": "stream",
     "text": [
      "[Parallel(n_jobs=-1)]: Using backend LokyBackend with 4 concurrent workers.\n"
     ]
    },
    {
     "name": "stdout",
     "output_type": "stream",
     "text": [
      "the df_11 cross validation is 0.5387257793592406\n"
     ]
    },
    {
     "name": "stderr",
     "output_type": "stream",
     "text": [
      "[Parallel(n_jobs=-1)]: Done  10 out of  10 | elapsed:   11.1s finished\n"
     ]
    }
   ],
   "source": [
    "X = df_11.drop(columns=['default'])\n",
    "y = df_11.default\n",
    "\n",
    "# Train test split\n",
    "\n",
    "X_train, X_test, y_train, y_test = train_test_split(X,y,\n",
    "                                                    test_size = 0.25,\n",
    "                                                    random_state = 42)\n",
    "\n",
    "# normalize the data\n",
    "scalar = StandardScaler()\n",
    "\n",
    "X_train_scaled = pd.DataFrame(scalar.fit_transform(X_train))\n",
    "X_test_scaled = pd.DataFrame(scalar.transform(X_test))\n",
    "\n",
    "X_trial = pd.concat([X_train_scaled, X_test_scaled])\n",
    "y_trial = pd.concat([y_train, y_test])\n",
    "\n",
    "logReg = LogisticRegression(class_weight = 'balanced',\n",
    "                            C=1, solver='saga',\n",
    "                            penalty='elasticnet',\n",
    "                            max_iter=100,l1_ratio=0.5)\n",
    "\n",
    "logReg.fit(X_trial,y_trial)\n",
    "arr = cross_val_score(logReg, X_trial, y_trial, cv=10, scoring='f1', verbose = 1, n_jobs=-1)\n",
    "df_11_CV = np.mean(arr)    \n",
    "print(f\"the df_11 cross validation is {df_11_CV}\")"
   ]
  },
  {
   "cell_type": "code",
   "execution_count": 51,
   "metadata": {},
   "outputs": [
    {
     "data": {
      "text/plain": [
       "[('pay_0_1', 0.43691749787429013),\n",
       " ('pay_6_8', 0.28095489571661586),\n",
       " ('deli', 0.1503876000984254),\n",
       " ('pay_6_-2', 0.1428049382345453),\n",
       " ('pay_0_2', 0.1397165331595493),\n",
       " ('pay_5_5', 0.11982455182399866),\n",
       " ('credit_utility', 0.1017033150727708),\n",
       " ('pay_6_-1', 0.08657350711793174),\n",
       " ('pay_0_0', 0.08109651166318059),\n",
       " ('university', 0.07604654012378693),\n",
       " ('male', 0.07264710265803312),\n",
       " ('pay_2_1', 0.06728257352277682),\n",
       " ('pay_2_-2', 0.06292320127767516),\n",
       " ('married', 0.054909952356374296),\n",
       " ('pay_2_2', 0.045517488824417376),\n",
       " ('pay_2_3', 0.04070874204273857),\n",
       " ('pay_6_7', 0.03798266301989302),\n",
       " ('pay_4_0', 0.03523656258272687),\n",
       " ('age', 0.02603554176451057),\n",
       " ('post_grad', 0.023132039354851103),\n",
       " ('pay_0_8', 0.0007971392250206325),\n",
       " ('other', -0.00011425250207022126),\n",
       " ('pay_5_0', -0.002916000380264796),\n",
       " ('pay_3_1', -0.0030918918739384314),\n",
       " ('pay_3_5', -0.01797326914591321),\n",
       " ('pay_3_0', -0.02739332883515202),\n",
       " ('pay_6_2', -0.02837535170040876),\n",
       " ('pay_0_3', -0.03116764463280971),\n",
       " ('bill_outlier', -0.034987625924563386),\n",
       " ('pay_3_7', -0.038294334401768805),\n",
       " ('pay_4_5', -0.04746272143728886),\n",
       " ('pay_4_-2', -0.05556787811468957),\n",
       " ('pay_4_1', -0.055569512937956596),\n",
       " ('pay_2_0', -0.06118579549707106),\n",
       " ('payment', -0.07483675990565937),\n",
       " ('pay_5_-1', -0.0901644832295794),\n",
       " ('pay_2_7', -0.09790675521915236),\n",
       " ('default', -0.09915109388603197),\n",
       " ('pay_4_-1', -0.1065231722685633),\n",
       " ('pay_outlier', -0.11972612307416781),\n",
       " ('pay_3_-2', -0.12705163425732569),\n",
       " ('pay_3_-1', -0.14887905675454058),\n",
       " ('bills', -0.21462325761971182),\n",
       " ('limit_bal', -0.23447135300233998),\n",
       " ('pay_0_-1', -0.265289966263304)]"
      ]
     },
     "execution_count": 51,
     "metadata": {},
     "output_type": "execute_result"
    }
   ],
   "source": [
    "sorted(list(zip(df_11.columns, logReg.coef_[0])), reverse=True, key=lambda x:x[1])"
   ]
  },
  {
   "cell_type": "code",
   "execution_count": 52,
   "metadata": {},
   "outputs": [
    {
     "name": "stderr",
     "output_type": "stream",
     "text": [
      "[Parallel(n_jobs=-1)]: Using backend LokyBackend with 4 concurrent workers.\n"
     ]
    },
    {
     "name": "stdout",
     "output_type": "stream",
     "text": [
      "the random forest cross validation is 0.5321758880813094\n"
     ]
    },
    {
     "name": "stderr",
     "output_type": "stream",
     "text": [
      "[Parallel(n_jobs=-1)]: Done  10 out of  10 | elapsed:    4.8s finished\n"
     ]
    }
   ],
   "source": [
    "forest = RandomForestClassifier(max_depth=3, verbose=1, class_weight='balanced', min_samples_leaf=3)\n",
    "arr = cross_val_score(forest, X_trial, y_trial, cv=10, scoring='f1', verbose = 1, n_jobs=-1)\n",
    "forest_1_CV = np.mean(arr)    \n",
    "print(f\"the random forest cross validation is {forest_1_CV}\")"
   ]
  },
  {
   "cell_type": "markdown",
   "metadata": {},
   "source": [
    "# Next step is to fit a KNN"
   ]
  },
  {
   "cell_type": "code",
   "execution_count": 53,
   "metadata": {},
   "outputs": [
    {
     "name": "stderr",
     "output_type": "stream",
     "text": [
      "[Parallel(n_jobs=-1)]: Using backend LokyBackend with 4 concurrent workers.\n"
     ]
    },
    {
     "name": "stdout",
     "output_type": "stream",
     "text": [
      "the random forest cross validation is 0.45341210526550635\n"
     ]
    },
    {
     "name": "stderr",
     "output_type": "stream",
     "text": [
      "[Parallel(n_jobs=-1)]: Done  10 out of  10 | elapsed:   32.0s finished\n"
     ]
    }
   ],
   "source": [
    "KNN=KNeighborsClassifier( n_jobs=-1)\n",
    "arr = cross_val_score(KNN, X_trial, y_trial, cv=10, scoring='f1', verbose = 1, n_jobs=-1)\n",
    "forest_1_CV = np.mean(arr)    \n",
    "print(f\"the random forest cross validation is {forest_1_CV}\")"
   ]
  },
  {
   "cell_type": "code",
   "execution_count": 54,
   "metadata": {},
   "outputs": [
    {
     "data": {
      "text/plain": [
       "0        0\n",
       "1        0\n",
       "2        0\n",
       "3        0\n",
       "4        0\n",
       "        ..\n",
       "22494    0\n",
       "22495    0\n",
       "22496    0\n",
       "22497    0\n",
       "22498    0\n",
       "Name: other, Length: 22499, dtype: uint8"
      ]
     },
     "execution_count": 54,
     "metadata": {},
     "output_type": "execute_result"
    }
   ],
   "source": []
  },
  {
   "cell_type": "markdown",
   "metadata": {},
   "source": [
    "# Let's grid search df_11 in random forest and logistic regression and knn"
   ]
  },
  {
   "cell_type": "code",
   "execution_count": 57,
   "metadata": {},
   "outputs": [
    {
     "data": {
      "text/html": [
       "<div>\n",
       "<style scoped>\n",
       "    .dataframe tbody tr th:only-of-type {\n",
       "        vertical-align: middle;\n",
       "    }\n",
       "\n",
       "    .dataframe tbody tr th {\n",
       "        vertical-align: top;\n",
       "    }\n",
       "\n",
       "    .dataframe thead th {\n",
       "        text-align: right;\n",
       "    }\n",
       "</style>\n",
       "<table border=\"1\" class=\"dataframe\">\n",
       "  <thead>\n",
       "    <tr style=\"text-align: right;\">\n",
       "      <th></th>\n",
       "      <th>limit_bal</th>\n",
       "      <th>male</th>\n",
       "      <th>age</th>\n",
       "      <th>default</th>\n",
       "      <th>other</th>\n",
       "      <th>post_grad</th>\n",
       "      <th>university</th>\n",
       "      <th>married</th>\n",
       "      <th>pay_0_-1</th>\n",
       "      <th>pay_0_0</th>\n",
       "      <th>...</th>\n",
       "      <th>pay_6_2</th>\n",
       "      <th>pay_6_7</th>\n",
       "      <th>pay_6_8</th>\n",
       "      <th>deli</th>\n",
       "      <th>credit_utility</th>\n",
       "      <th>bills</th>\n",
       "      <th>payment</th>\n",
       "      <th>pay_outlier</th>\n",
       "      <th>bill_outlier</th>\n",
       "      <th>credit_outlier</th>\n",
       "    </tr>\n",
       "  </thead>\n",
       "  <tbody>\n",
       "    <tr>\n",
       "      <th>0</th>\n",
       "      <td>220000</td>\n",
       "      <td>0</td>\n",
       "      <td>36</td>\n",
       "      <td>1</td>\n",
       "      <td>0</td>\n",
       "      <td>1</td>\n",
       "      <td>0</td>\n",
       "      <td>0</td>\n",
       "      <td>0</td>\n",
       "      <td>1</td>\n",
       "      <td>...</td>\n",
       "      <td>0</td>\n",
       "      <td>0</td>\n",
       "      <td>0</td>\n",
       "      <td>0</td>\n",
       "      <td>4.824600</td>\n",
       "      <td>1250323</td>\n",
       "      <td>188911</td>\n",
       "      <td>1</td>\n",
       "      <td>1</td>\n",
       "      <td>0</td>\n",
       "    </tr>\n",
       "    <tr>\n",
       "      <th>1</th>\n",
       "      <td>200000</td>\n",
       "      <td>0</td>\n",
       "      <td>29</td>\n",
       "      <td>0</td>\n",
       "      <td>0</td>\n",
       "      <td>0</td>\n",
       "      <td>0</td>\n",
       "      <td>0</td>\n",
       "      <td>1</td>\n",
       "      <td>0</td>\n",
       "      <td>...</td>\n",
       "      <td>0</td>\n",
       "      <td>0</td>\n",
       "      <td>0</td>\n",
       "      <td>-6</td>\n",
       "      <td>0.000000</td>\n",
       "      <td>1956</td>\n",
       "      <td>1956</td>\n",
       "      <td>1</td>\n",
       "      <td>1</td>\n",
       "      <td>0</td>\n",
       "    </tr>\n",
       "    <tr>\n",
       "      <th>2</th>\n",
       "      <td>180000</td>\n",
       "      <td>0</td>\n",
       "      <td>27</td>\n",
       "      <td>0</td>\n",
       "      <td>0</td>\n",
       "      <td>1</td>\n",
       "      <td>0</td>\n",
       "      <td>0</td>\n",
       "      <td>0</td>\n",
       "      <td>0</td>\n",
       "      <td>...</td>\n",
       "      <td>0</td>\n",
       "      <td>0</td>\n",
       "      <td>0</td>\n",
       "      <td>-12</td>\n",
       "      <td>0.000000</td>\n",
       "      <td>0</td>\n",
       "      <td>0</td>\n",
       "      <td>0</td>\n",
       "      <td>0</td>\n",
       "      <td>0</td>\n",
       "    </tr>\n",
       "    <tr>\n",
       "      <th>3</th>\n",
       "      <td>80000</td>\n",
       "      <td>1</td>\n",
       "      <td>32</td>\n",
       "      <td>0</td>\n",
       "      <td>0</td>\n",
       "      <td>0</td>\n",
       "      <td>1</td>\n",
       "      <td>0</td>\n",
       "      <td>0</td>\n",
       "      <td>1</td>\n",
       "      <td>...</td>\n",
       "      <td>0</td>\n",
       "      <td>0</td>\n",
       "      <td>0</td>\n",
       "      <td>0</td>\n",
       "      <td>3.373638</td>\n",
       "      <td>279502</td>\n",
       "      <td>9611</td>\n",
       "      <td>1</td>\n",
       "      <td>1</td>\n",
       "      <td>0</td>\n",
       "    </tr>\n",
       "    <tr>\n",
       "      <th>4</th>\n",
       "      <td>10000</td>\n",
       "      <td>1</td>\n",
       "      <td>27</td>\n",
       "      <td>1</td>\n",
       "      <td>0</td>\n",
       "      <td>0</td>\n",
       "      <td>1</td>\n",
       "      <td>0</td>\n",
       "      <td>0</td>\n",
       "      <td>1</td>\n",
       "      <td>...</td>\n",
       "      <td>0</td>\n",
       "      <td>0</td>\n",
       "      <td>0</td>\n",
       "      <td>0</td>\n",
       "      <td>2.661000</td>\n",
       "      <td>31910</td>\n",
       "      <td>5300</td>\n",
       "      <td>1</td>\n",
       "      <td>1</td>\n",
       "      <td>0</td>\n",
       "    </tr>\n",
       "    <tr>\n",
       "      <th>...</th>\n",
       "      <td>...</td>\n",
       "      <td>...</td>\n",
       "      <td>...</td>\n",
       "      <td>...</td>\n",
       "      <td>...</td>\n",
       "      <td>...</td>\n",
       "      <td>...</td>\n",
       "      <td>...</td>\n",
       "      <td>...</td>\n",
       "      <td>...</td>\n",
       "      <td>...</td>\n",
       "      <td>...</td>\n",
       "      <td>...</td>\n",
       "      <td>...</td>\n",
       "      <td>...</td>\n",
       "      <td>...</td>\n",
       "      <td>...</td>\n",
       "      <td>...</td>\n",
       "      <td>...</td>\n",
       "      <td>...</td>\n",
       "      <td>...</td>\n",
       "    </tr>\n",
       "    <tr>\n",
       "      <th>22494</th>\n",
       "      <td>40000</td>\n",
       "      <td>0</td>\n",
       "      <td>38</td>\n",
       "      <td>1</td>\n",
       "      <td>0</td>\n",
       "      <td>0</td>\n",
       "      <td>1</td>\n",
       "      <td>1</td>\n",
       "      <td>0</td>\n",
       "      <td>1</td>\n",
       "      <td>...</td>\n",
       "      <td>1</td>\n",
       "      <td>0</td>\n",
       "      <td>0</td>\n",
       "      <td>9</td>\n",
       "      <td>5.599450</td>\n",
       "      <td>234247</td>\n",
       "      <td>10269</td>\n",
       "      <td>1</td>\n",
       "      <td>1</td>\n",
       "      <td>1</td>\n",
       "    </tr>\n",
       "    <tr>\n",
       "      <th>22495</th>\n",
       "      <td>350000</td>\n",
       "      <td>1</td>\n",
       "      <td>42</td>\n",
       "      <td>0</td>\n",
       "      <td>0</td>\n",
       "      <td>1</td>\n",
       "      <td>0</td>\n",
       "      <td>1</td>\n",
       "      <td>1</td>\n",
       "      <td>0</td>\n",
       "      <td>...</td>\n",
       "      <td>0</td>\n",
       "      <td>0</td>\n",
       "      <td>0</td>\n",
       "      <td>-6</td>\n",
       "      <td>-0.019574</td>\n",
       "      <td>24410</td>\n",
       "      <td>31261</td>\n",
       "      <td>1</td>\n",
       "      <td>1</td>\n",
       "      <td>0</td>\n",
       "    </tr>\n",
       "    <tr>\n",
       "      <th>22496</th>\n",
       "      <td>100000</td>\n",
       "      <td>0</td>\n",
       "      <td>46</td>\n",
       "      <td>0</td>\n",
       "      <td>0</td>\n",
       "      <td>0</td>\n",
       "      <td>0</td>\n",
       "      <td>0</td>\n",
       "      <td>0</td>\n",
       "      <td>0</td>\n",
       "      <td>...</td>\n",
       "      <td>0</td>\n",
       "      <td>0</td>\n",
       "      <td>0</td>\n",
       "      <td>3</td>\n",
       "      <td>0.058820</td>\n",
       "      <td>24806</td>\n",
       "      <td>18924</td>\n",
       "      <td>1</td>\n",
       "      <td>1</td>\n",
       "      <td>0</td>\n",
       "    </tr>\n",
       "    <tr>\n",
       "      <th>22497</th>\n",
       "      <td>20000</td>\n",
       "      <td>0</td>\n",
       "      <td>50</td>\n",
       "      <td>1</td>\n",
       "      <td>0</td>\n",
       "      <td>0</td>\n",
       "      <td>0</td>\n",
       "      <td>1</td>\n",
       "      <td>1</td>\n",
       "      <td>0</td>\n",
       "      <td>...</td>\n",
       "      <td>0</td>\n",
       "      <td>0</td>\n",
       "      <td>0</td>\n",
       "      <td>-8</td>\n",
       "      <td>0.227600</td>\n",
       "      <td>15502</td>\n",
       "      <td>10950</td>\n",
       "      <td>1</td>\n",
       "      <td>1</td>\n",
       "      <td>0</td>\n",
       "    </tr>\n",
       "    <tr>\n",
       "      <th>22498</th>\n",
       "      <td>20000</td>\n",
       "      <td>0</td>\n",
       "      <td>25</td>\n",
       "      <td>0</td>\n",
       "      <td>0</td>\n",
       "      <td>1</td>\n",
       "      <td>0</td>\n",
       "      <td>0</td>\n",
       "      <td>0</td>\n",
       "      <td>0</td>\n",
       "      <td>...</td>\n",
       "      <td>1</td>\n",
       "      <td>0</td>\n",
       "      <td>0</td>\n",
       "      <td>11</td>\n",
       "      <td>4.318050</td>\n",
       "      <td>96561</td>\n",
       "      <td>10200</td>\n",
       "      <td>1</td>\n",
       "      <td>1</td>\n",
       "      <td>0</td>\n",
       "    </tr>\n",
       "  </tbody>\n",
       "</table>\n",
       "<p>22499 rows × 46 columns</p>\n",
       "</div>"
      ],
      "text/plain": [
       "       limit_bal  male  age  default  other  post_grad  university  married  \\\n",
       "0         220000     0   36        1      0          1           0        0   \n",
       "1         200000     0   29        0      0          0           0        0   \n",
       "2         180000     0   27        0      0          1           0        0   \n",
       "3          80000     1   32        0      0          0           1        0   \n",
       "4          10000     1   27        1      0          0           1        0   \n",
       "...          ...   ...  ...      ...    ...        ...         ...      ...   \n",
       "22494      40000     0   38        1      0          0           1        1   \n",
       "22495     350000     1   42        0      0          1           0        1   \n",
       "22496     100000     0   46        0      0          0           0        0   \n",
       "22497      20000     0   50        1      0          0           0        1   \n",
       "22498      20000     0   25        0      0          1           0        0   \n",
       "\n",
       "       pay_0_-1  pay_0_0  ...  pay_6_2  pay_6_7  pay_6_8  deli  \\\n",
       "0             0        1  ...        0        0        0     0   \n",
       "1             1        0  ...        0        0        0    -6   \n",
       "2             0        0  ...        0        0        0   -12   \n",
       "3             0        1  ...        0        0        0     0   \n",
       "4             0        1  ...        0        0        0     0   \n",
       "...         ...      ...  ...      ...      ...      ...   ...   \n",
       "22494         0        1  ...        1        0        0     9   \n",
       "22495         1        0  ...        0        0        0    -6   \n",
       "22496         0        0  ...        0        0        0     3   \n",
       "22497         1        0  ...        0        0        0    -8   \n",
       "22498         0        0  ...        1        0        0    11   \n",
       "\n",
       "       credit_utility    bills  payment  pay_outlier  bill_outlier  \\\n",
       "0            4.824600  1250323   188911            1             1   \n",
       "1            0.000000     1956     1956            1             1   \n",
       "2            0.000000        0        0            0             0   \n",
       "3            3.373638   279502     9611            1             1   \n",
       "4            2.661000    31910     5300            1             1   \n",
       "...               ...      ...      ...          ...           ...   \n",
       "22494        5.599450   234247    10269            1             1   \n",
       "22495       -0.019574    24410    31261            1             1   \n",
       "22496        0.058820    24806    18924            1             1   \n",
       "22497        0.227600    15502    10950            1             1   \n",
       "22498        4.318050    96561    10200            1             1   \n",
       "\n",
       "       credit_outlier  \n",
       "0                   0  \n",
       "1                   0  \n",
       "2                   0  \n",
       "3                   0  \n",
       "4                   0  \n",
       "...               ...  \n",
       "22494               1  \n",
       "22495               0  \n",
       "22496               0  \n",
       "22497               0  \n",
       "22498               0  \n",
       "\n",
       "[22499 rows x 46 columns]"
      ]
     },
     "execution_count": 57,
     "metadata": {},
     "output_type": "execute_result"
    }
   ],
   "source": [
    "df_11"
   ]
  },
  {
   "cell_type": "code",
   "execution_count": 59,
   "metadata": {},
   "outputs": [
    {
     "data": {
      "text/plain": [
       "6.782329983125268"
      ]
     },
     "execution_count": 59,
     "metadata": {},
     "output_type": "execute_result"
    }
   ],
   "source": [
    "46**0.5"
   ]
  },
  {
   "cell_type": "code",
   "execution_count": 81,
   "metadata": {},
   "outputs": [],
   "source": [
    "forest = RandomForestClassifier(n_estimators = 100, class_weight='balanced', random_state=42)"
   ]
  },
  {
   "cell_type": "code",
   "execution_count": 82,
   "metadata": {},
   "outputs": [],
   "source": [
    "forest_grid_params = {\n",
    "    'criterion': ['gini', 'entropy'],\n",
    "    'max_depth': range(2,5),\n",
    "    'min_samples_leaf': range(2,10,2),\n",
    "    'max_features' : [5, 'sqrt', 10, 15, 20, 30]\n",
    "}"
   ]
  },
  {
   "cell_type": "code",
   "execution_count": 83,
   "metadata": {},
   "outputs": [],
   "source": [
    "forest_clf = GridSearchCV(forest, forest_grid_params, n_jobs=-1, cv=10, verbose = 1 )"
   ]
  },
  {
   "cell_type": "code",
   "execution_count": 84,
   "metadata": {},
   "outputs": [
    {
     "name": "stdout",
     "output_type": "stream",
     "text": [
      "Fitting 10 folds for each of 144 candidates, totalling 1440 fits\n"
     ]
    },
    {
     "name": "stderr",
     "output_type": "stream",
     "text": [
      "[Parallel(n_jobs=-1)]: Using backend LokyBackend with 4 concurrent workers.\n",
      "[Parallel(n_jobs=-1)]: Done  42 tasks      | elapsed:   26.7s\n",
      "[Parallel(n_jobs=-1)]: Done 192 tasks      | elapsed:  1.8min\n",
      "[Parallel(n_jobs=-1)]: Done 442 tasks      | elapsed:  4.5min\n",
      "[Parallel(n_jobs=-1)]: Done 792 tasks      | elapsed:  9.2min\n",
      "[Parallel(n_jobs=-1)]: Done 1242 tasks      | elapsed: 14.5min\n",
      "[Parallel(n_jobs=-1)]: Done 1440 out of 1440 | elapsed: 18.0min finished\n"
     ]
    },
    {
     "data": {
      "text/plain": [
       "GridSearchCV(cv=10,\n",
       "             estimator=RandomForestClassifier(class_weight='balanced',\n",
       "                                              random_state=42),\n",
       "             n_jobs=-1,\n",
       "             param_grid={'criterion': ['gini', 'entropy'],\n",
       "                         'max_depth': range(2, 5),\n",
       "                         'max_features': [5, 'sqrt', 10, 15, 20, 30],\n",
       "                         'min_samples_leaf': range(2, 10, 2)},\n",
       "             verbose=1)"
      ]
     },
     "execution_count": 84,
     "metadata": {},
     "output_type": "execute_result"
    }
   ],
   "source": [
    "forest_clf.fit(X_train, y_train)"
   ]
  },
  {
   "cell_type": "code",
   "execution_count": 100,
   "metadata": {},
   "outputs": [
    {
     "data": {
      "text/plain": [
       "{'criterion': 'entropy',\n",
       " 'max_depth': 4,\n",
       " 'max_features': 'sqrt',\n",
       " 'min_samples_leaf': 2}"
      ]
     },
     "execution_count": 100,
     "metadata": {},
     "output_type": "execute_result"
    }
   ],
   "source": [
    "forest_clf.best_params_"
   ]
  },
  {
   "cell_type": "code",
   "execution_count": 90,
   "metadata": {},
   "outputs": [],
   "source": [
    "best_model = forest_clf.best_estimator_"
   ]
  },
  {
   "cell_type": "code",
   "execution_count": 91,
   "metadata": {},
   "outputs": [
    {
     "name": "stderr",
     "output_type": "stream",
     "text": [
      "[Parallel(n_jobs=-1)]: Using backend LokyBackend with 4 concurrent workers.\n",
      "[Parallel(n_jobs=-1)]: Done  10 out of  10 | elapsed:    8.5s finished\n"
     ]
    },
    {
     "data": {
      "text/plain": [
       "0.5365410174467551"
      ]
     },
     "execution_count": 91,
     "metadata": {},
     "output_type": "execute_result"
    }
   ],
   "source": [
    "arr = cross_val_score(best_model, X_trial, y_trial, cv=10, scoring='f1', verbose = 1, n_jobs=-1)\n",
    "forest_2_CV = np.mean(arr)    \n",
    "forest_2_CV"
   ]
  },
  {
   "cell_type": "code",
   "execution_count": 97,
   "metadata": {},
   "outputs": [
    {
     "data": {
      "text/plain": [
       "RandomForestClassifier(class_weight='balanced', criterion='entropy',\n",
       "                       max_depth=4, max_features='sqrt', min_samples_leaf=2,\n",
       "                       random_state=42)"
      ]
     },
     "execution_count": 97,
     "metadata": {},
     "output_type": "execute_result"
    }
   ],
   "source": [
    "best_model.fit(X_train, y_train)"
   ]
  },
  {
   "cell_type": "code",
   "execution_count": 98,
   "metadata": {},
   "outputs": [],
   "source": [
    "y_hat = best_model.predict(X_test)"
   ]
  },
  {
   "cell_type": "code",
   "execution_count": 99,
   "metadata": {},
   "outputs": [
    {
     "data": {
      "text/plain": [
       "0.560966678872208"
      ]
     },
     "execution_count": 99,
     "metadata": {},
     "output_type": "execute_result"
    }
   ],
   "source": [
    "f1_score(y_test, y_hat)"
   ]
  },
  {
   "cell_type": "code",
   "execution_count": 101,
   "metadata": {},
   "outputs": [],
   "source": [
    "import pickle\n"
   ]
  },
  {
   "cell_type": "code",
   "execution_count": 102,
   "metadata": {},
   "outputs": [],
   "source": [
    "pickle_out = open(\"./forest_model.pickle\",\"wb\")\n",
    "pickle.dump(forest_clf.best_estimator_, pickle_out)\n",
    "pickle_out.close()"
   ]
  },
  {
   "cell_type": "code",
   "execution_count": 103,
   "metadata": {},
   "outputs": [],
   "source": [
    "df_11.to_csv('./data/forest_model_best.csv')"
   ]
  },
  {
   "cell_type": "code",
   "execution_count": 104,
   "metadata": {},
   "outputs": [
    {
     "data": {
      "text/plain": [
       "Index(['limit_bal', 'male', 'age', 'default', 'other', 'post_grad',\n",
       "       'university', 'married', 'pay_0_-1', 'pay_0_0', 'pay_0_1', 'pay_0_2',\n",
       "       'pay_0_3', 'pay_0_8', 'pay_2_-2', 'pay_2_0', 'pay_2_1', 'pay_2_2',\n",
       "       'pay_2_3', 'pay_2_7', 'pay_3_-2', 'pay_3_-1', 'pay_3_0', 'pay_3_1',\n",
       "       'pay_3_5', 'pay_3_7', 'pay_4_-2', 'pay_4_-1', 'pay_4_0', 'pay_4_1',\n",
       "       'pay_4_5', 'pay_5_-1', 'pay_5_0', 'pay_5_5', 'pay_6_-2', 'pay_6_-1',\n",
       "       'pay_6_2', 'pay_6_7', 'pay_6_8', 'deli', 'credit_utility', 'bills',\n",
       "       'payment', 'pay_outlier', 'bill_outlier', 'credit_outlier'],\n",
       "      dtype='object')"
      ]
     },
     "execution_count": 104,
     "metadata": {},
     "output_type": "execute_result"
    }
   ],
   "source": [
    "df_11.columns"
   ]
  },
  {
   "cell_type": "code",
   "execution_count": null,
   "metadata": {},
   "outputs": [],
   "source": [
    "for i in souplist\n",
    "    "
   ]
  }
 ],
 "metadata": {
  "kernelspec": {
   "display_name": "Python 3",
   "language": "python",
   "name": "python3"
  },
  "language_info": {
   "codemirror_mode": {
    "name": "ipython",
    "version": 3
   },
   "file_extension": ".py",
   "mimetype": "text/x-python",
   "name": "python",
   "nbconvert_exporter": "python",
   "pygments_lexer": "ipython3",
   "version": "3.6.9"
  }
 },
 "nbformat": 4,
 "nbformat_minor": 4
}
