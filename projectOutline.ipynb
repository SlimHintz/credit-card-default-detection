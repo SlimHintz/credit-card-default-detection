{
 "cells": [
  {
   "cell_type": "markdown",
   "metadata": {},
   "source": [
    "# Pipeline\n",
    "\n",
    "1) categorize education 1-4, drop highschool\n",
    "\n",
    "2) categorize marriage, married, not married, drop married\n",
    "\n",
    "3) categorze limit_bal into 4 bins based on IQR\n",
    "\n",
    "4) Make a credit utility columns based on account_balance = df1.limit_bal - df1[bills].sum(axis=1) + df1[payments].sum(axis=1)\n",
    "\n",
    "5) "
   ]
  },
  {
   "cell_type": "markdown",
   "metadata": {},
   "source": [
    "# Data Comprehension\n",
    "1) Rename the columns to for ease of interpetability\n",
    "\n",
    "2) Decide work towards a classification problem\n",
    "\n",
    "3) rename sex to male and dummy the column"
   ]
  },
  {
   "cell_type": "code",
   "execution_count": null,
   "metadata": {},
   "outputs": [],
   "source": []
  },
  {
   "cell_type": "markdown",
   "metadata": {},
   "source": [
    "# Data Cleaning\n",
    "1) Education, everything above 4 is 4?\n",
    "    - dummied the columns into 4, dropped high_school\n",
    "2) marriage, are there clusters within or between groups"
   ]
  },
  {
   "cell_type": "markdown",
   "metadata": {},
   "source": [
    "# Data Preparation \n",
    "- Create a set of normalized columns of bill relative to limit\n",
    "- I will also create column called percent of return. The absolute repayment may be less important than the relative proportion payed back each month. \n",
    "    - In addition, there is apparently a group of people that consitently pay only the minimum amount. This percentage of payment should reveal that.\n",
    "\n",
    "- To help the decision tree, I should classfiy the credit limit into different categoris and do a one hot encoding."
   ]
  },
  {
   "cell_type": "markdown",
   "metadata": {},
   "source": [
    "# EDA\n",
    "- Oberved "
   ]
  },
  {
   "cell_type": "markdown",
   "metadata": {},
   "source": [
    "# Feature Engineering\n",
    "- Dummy columns for Marriage\n",
    "- Dummy columns for education \n",
    "- Credit Utility = Account_balance/credit_limit\n",
    "- Account balance"
   ]
  },
  {
   "cell_type": "markdown",
   "metadata": {},
   "source": [
    "# Modeling"
   ]
  },
  {
   "cell_type": "markdown",
   "metadata": {},
   "source": [
    "# Final analysis interpretation"
   ]
  },
  {
   "cell_type": "code",
   "execution_count": null,
   "metadata": {},
   "outputs": [],
   "source": []
  }
 ],
 "metadata": {
  "kernelspec": {
   "display_name": "Python 3",
   "language": "python",
   "name": "python3"
  },
  "language_info": {
   "codemirror_mode": {
    "name": "ipython",
    "version": 3
   },
   "file_extension": ".py",
   "mimetype": "text/x-python",
   "name": "python",
   "nbconvert_exporter": "python",
   "pygments_lexer": "ipython3",
   "version": "3.6.9"
  }
 },
 "nbformat": 4,
 "nbformat_minor": 4
}
